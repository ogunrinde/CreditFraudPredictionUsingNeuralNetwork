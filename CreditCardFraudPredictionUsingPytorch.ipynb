{
  "nbformat": 4,
  "nbformat_minor": 0,
  "metadata": {
    "colab": {
      "provenance": []
    },
    "kernelspec": {
      "name": "python3",
      "display_name": "Python 3"
    },
    "language_info": {
      "name": "python"
    }
  },
  "cells": [
    {
      "cell_type": "markdown",
      "source": [
        "### Import the Libraries"
      ],
      "metadata": {
        "id": "tEds7iJXe0PZ"
      }
    },
    {
      "cell_type": "code",
      "source": [
        "import pandas as pd\n",
        "import torch\n",
        "import torch.nn as nn\n",
        "import numpy as np\n",
        "from sklearn.model_selection import train_test_split"
      ],
      "metadata": {
        "id": "rD7sdeQre3HN"
      },
      "execution_count": 8,
      "outputs": []
    },
    {
      "cell_type": "markdown",
      "source": [
        "### Import the clean data"
      ],
      "metadata": {
        "id": "w47be3jrfSbK"
      }
    },
    {
      "cell_type": "code",
      "source": [
        "df_clean = pd.read_csv('/content/clean_fraud_data.csv')"
      ],
      "metadata": {
        "id": "wjmraI7gfVKO"
      },
      "execution_count": 39,
      "outputs": []
    },
    {
      "cell_type": "code",
      "source": [
        "df_clean.head(5)"
      ],
      "metadata": {
        "colab": {
          "base_uri": "https://localhost:8080/",
          "height": 290
        },
        "id": "FDx3YdDpftmh",
        "outputId": "245b5abd-4397-4e17-8108-0ab09a8c66b1"
      },
      "execution_count": 40,
      "outputs": [
        {
          "output_type": "execute_result",
          "data": {
            "text/plain": [
              "   Unnamed: 0     amt  merch_lat  merch_long  is_fraud  age  gender_cat  \\\n",
              "0       11984    6.54  37.058647  -83.598917       0.0   60           0   \n",
              "1       97462  181.67  36.384228  -91.163671       0.0   52           1   \n",
              "2       22029   38.97  46.316279  -90.054852       0.0   23           0   \n",
              "3       60654   19.26  38.869364  -85.898899       0.0   29           0   \n",
              "4       66865  115.92  42.315847  -72.061026       0.0   60           1   \n",
              "\n",
              "   category_food_dining  category_gas_transport  category_grocery_net  ...  \\\n",
              "0                     0                       0                     0  ...   \n",
              "1                     0                       0                     0  ...   \n",
              "2                     0                       0                     0  ...   \n",
              "3                     0                       0                     0  ...   \n",
              "4                     0                       0                     0  ...   \n",
              "\n",
              "   job_Tree surgeon  job_Video editor  job_Volunteer coordinator  \\\n",
              "0                 0                 0                          0   \n",
              "1                 0                 0                          0   \n",
              "2                 0                 0                          0   \n",
              "3                 0                 0                          0   \n",
              "4                 0                 0                          0   \n",
              "\n",
              "   job_Warden/ranger  job_Waste management officer  job_Water engineer  \\\n",
              "0                  0                             0                   0   \n",
              "1                  0                             0                   0   \n",
              "2                  0                             0                   0   \n",
              "3                  0                             0                   0   \n",
              "4                  0                             0                   0   \n",
              "\n",
              "   job_Water quality scientist  job_Web designer  job_Wellsite geologist  \\\n",
              "0                            0                 0                       0   \n",
              "1                            0                 0                       0   \n",
              "2                            0                 0                       0   \n",
              "3                            0                 0                       0   \n",
              "4                            0                 0                       0   \n",
              "\n",
              "   job_Writer  \n",
              "0           0  \n",
              "1           0  \n",
              "2           0  \n",
              "3           0  \n",
              "4           0  \n",
              "\n",
              "[5 rows x 453 columns]"
            ],
            "text/html": [
              "\n",
              "  <div id=\"df-71aaab09-5215-4991-bae1-4113af76f188\" class=\"colab-df-container\">\n",
              "    <div>\n",
              "<style scoped>\n",
              "    .dataframe tbody tr th:only-of-type {\n",
              "        vertical-align: middle;\n",
              "    }\n",
              "\n",
              "    .dataframe tbody tr th {\n",
              "        vertical-align: top;\n",
              "    }\n",
              "\n",
              "    .dataframe thead th {\n",
              "        text-align: right;\n",
              "    }\n",
              "</style>\n",
              "<table border=\"1\" class=\"dataframe\">\n",
              "  <thead>\n",
              "    <tr style=\"text-align: right;\">\n",
              "      <th></th>\n",
              "      <th>Unnamed: 0</th>\n",
              "      <th>amt</th>\n",
              "      <th>merch_lat</th>\n",
              "      <th>merch_long</th>\n",
              "      <th>is_fraud</th>\n",
              "      <th>age</th>\n",
              "      <th>gender_cat</th>\n",
              "      <th>category_food_dining</th>\n",
              "      <th>category_gas_transport</th>\n",
              "      <th>category_grocery_net</th>\n",
              "      <th>...</th>\n",
              "      <th>job_Tree surgeon</th>\n",
              "      <th>job_Video editor</th>\n",
              "      <th>job_Volunteer coordinator</th>\n",
              "      <th>job_Warden/ranger</th>\n",
              "      <th>job_Waste management officer</th>\n",
              "      <th>job_Water engineer</th>\n",
              "      <th>job_Water quality scientist</th>\n",
              "      <th>job_Web designer</th>\n",
              "      <th>job_Wellsite geologist</th>\n",
              "      <th>job_Writer</th>\n",
              "    </tr>\n",
              "  </thead>\n",
              "  <tbody>\n",
              "    <tr>\n",
              "      <th>0</th>\n",
              "      <td>11984</td>\n",
              "      <td>6.54</td>\n",
              "      <td>37.058647</td>\n",
              "      <td>-83.598917</td>\n",
              "      <td>0.0</td>\n",
              "      <td>60</td>\n",
              "      <td>0</td>\n",
              "      <td>0</td>\n",
              "      <td>0</td>\n",
              "      <td>0</td>\n",
              "      <td>...</td>\n",
              "      <td>0</td>\n",
              "      <td>0</td>\n",
              "      <td>0</td>\n",
              "      <td>0</td>\n",
              "      <td>0</td>\n",
              "      <td>0</td>\n",
              "      <td>0</td>\n",
              "      <td>0</td>\n",
              "      <td>0</td>\n",
              "      <td>0</td>\n",
              "    </tr>\n",
              "    <tr>\n",
              "      <th>1</th>\n",
              "      <td>97462</td>\n",
              "      <td>181.67</td>\n",
              "      <td>36.384228</td>\n",
              "      <td>-91.163671</td>\n",
              "      <td>0.0</td>\n",
              "      <td>52</td>\n",
              "      <td>1</td>\n",
              "      <td>0</td>\n",
              "      <td>0</td>\n",
              "      <td>0</td>\n",
              "      <td>...</td>\n",
              "      <td>0</td>\n",
              "      <td>0</td>\n",
              "      <td>0</td>\n",
              "      <td>0</td>\n",
              "      <td>0</td>\n",
              "      <td>0</td>\n",
              "      <td>0</td>\n",
              "      <td>0</td>\n",
              "      <td>0</td>\n",
              "      <td>0</td>\n",
              "    </tr>\n",
              "    <tr>\n",
              "      <th>2</th>\n",
              "      <td>22029</td>\n",
              "      <td>38.97</td>\n",
              "      <td>46.316279</td>\n",
              "      <td>-90.054852</td>\n",
              "      <td>0.0</td>\n",
              "      <td>23</td>\n",
              "      <td>0</td>\n",
              "      <td>0</td>\n",
              "      <td>0</td>\n",
              "      <td>0</td>\n",
              "      <td>...</td>\n",
              "      <td>0</td>\n",
              "      <td>0</td>\n",
              "      <td>0</td>\n",
              "      <td>0</td>\n",
              "      <td>0</td>\n",
              "      <td>0</td>\n",
              "      <td>0</td>\n",
              "      <td>0</td>\n",
              "      <td>0</td>\n",
              "      <td>0</td>\n",
              "    </tr>\n",
              "    <tr>\n",
              "      <th>3</th>\n",
              "      <td>60654</td>\n",
              "      <td>19.26</td>\n",
              "      <td>38.869364</td>\n",
              "      <td>-85.898899</td>\n",
              "      <td>0.0</td>\n",
              "      <td>29</td>\n",
              "      <td>0</td>\n",
              "      <td>0</td>\n",
              "      <td>0</td>\n",
              "      <td>0</td>\n",
              "      <td>...</td>\n",
              "      <td>0</td>\n",
              "      <td>0</td>\n",
              "      <td>0</td>\n",
              "      <td>0</td>\n",
              "      <td>0</td>\n",
              "      <td>0</td>\n",
              "      <td>0</td>\n",
              "      <td>0</td>\n",
              "      <td>0</td>\n",
              "      <td>0</td>\n",
              "    </tr>\n",
              "    <tr>\n",
              "      <th>4</th>\n",
              "      <td>66865</td>\n",
              "      <td>115.92</td>\n",
              "      <td>42.315847</td>\n",
              "      <td>-72.061026</td>\n",
              "      <td>0.0</td>\n",
              "      <td>60</td>\n",
              "      <td>1</td>\n",
              "      <td>0</td>\n",
              "      <td>0</td>\n",
              "      <td>0</td>\n",
              "      <td>...</td>\n",
              "      <td>0</td>\n",
              "      <td>0</td>\n",
              "      <td>0</td>\n",
              "      <td>0</td>\n",
              "      <td>0</td>\n",
              "      <td>0</td>\n",
              "      <td>0</td>\n",
              "      <td>0</td>\n",
              "      <td>0</td>\n",
              "      <td>0</td>\n",
              "    </tr>\n",
              "  </tbody>\n",
              "</table>\n",
              "<p>5 rows × 453 columns</p>\n",
              "</div>\n",
              "    <div class=\"colab-df-buttons\">\n",
              "\n",
              "  <div class=\"colab-df-container\">\n",
              "    <button class=\"colab-df-convert\" onclick=\"convertToInteractive('df-71aaab09-5215-4991-bae1-4113af76f188')\"\n",
              "            title=\"Convert this dataframe to an interactive table.\"\n",
              "            style=\"display:none;\">\n",
              "\n",
              "  <svg xmlns=\"http://www.w3.org/2000/svg\" height=\"24px\" viewBox=\"0 -960 960 960\">\n",
              "    <path d=\"M120-120v-720h720v720H120Zm60-500h600v-160H180v160Zm220 220h160v-160H400v160Zm0 220h160v-160H400v160ZM180-400h160v-160H180v160Zm440 0h160v-160H620v160ZM180-180h160v-160H180v160Zm440 0h160v-160H620v160Z\"/>\n",
              "  </svg>\n",
              "    </button>\n",
              "\n",
              "  <style>\n",
              "    .colab-df-container {\n",
              "      display:flex;\n",
              "      gap: 12px;\n",
              "    }\n",
              "\n",
              "    .colab-df-convert {\n",
              "      background-color: #E8F0FE;\n",
              "      border: none;\n",
              "      border-radius: 50%;\n",
              "      cursor: pointer;\n",
              "      display: none;\n",
              "      fill: #1967D2;\n",
              "      height: 32px;\n",
              "      padding: 0 0 0 0;\n",
              "      width: 32px;\n",
              "    }\n",
              "\n",
              "    .colab-df-convert:hover {\n",
              "      background-color: #E2EBFA;\n",
              "      box-shadow: 0px 1px 2px rgba(60, 64, 67, 0.3), 0px 1px 3px 1px rgba(60, 64, 67, 0.15);\n",
              "      fill: #174EA6;\n",
              "    }\n",
              "\n",
              "    .colab-df-buttons div {\n",
              "      margin-bottom: 4px;\n",
              "    }\n",
              "\n",
              "    [theme=dark] .colab-df-convert {\n",
              "      background-color: #3B4455;\n",
              "      fill: #D2E3FC;\n",
              "    }\n",
              "\n",
              "    [theme=dark] .colab-df-convert:hover {\n",
              "      background-color: #434B5C;\n",
              "      box-shadow: 0px 1px 3px 1px rgba(0, 0, 0, 0.15);\n",
              "      filter: drop-shadow(0px 1px 2px rgba(0, 0, 0, 0.3));\n",
              "      fill: #FFFFFF;\n",
              "    }\n",
              "  </style>\n",
              "\n",
              "    <script>\n",
              "      const buttonEl =\n",
              "        document.querySelector('#df-71aaab09-5215-4991-bae1-4113af76f188 button.colab-df-convert');\n",
              "      buttonEl.style.display =\n",
              "        google.colab.kernel.accessAllowed ? 'block' : 'none';\n",
              "\n",
              "      async function convertToInteractive(key) {\n",
              "        const element = document.querySelector('#df-71aaab09-5215-4991-bae1-4113af76f188');\n",
              "        const dataTable =\n",
              "          await google.colab.kernel.invokeFunction('convertToInteractive',\n",
              "                                                    [key], {});\n",
              "        if (!dataTable) return;\n",
              "\n",
              "        const docLinkHtml = 'Like what you see? Visit the ' +\n",
              "          '<a target=\"_blank\" href=https://colab.research.google.com/notebooks/data_table.ipynb>data table notebook</a>'\n",
              "          + ' to learn more about interactive tables.';\n",
              "        element.innerHTML = '';\n",
              "        dataTable['output_type'] = 'display_data';\n",
              "        await google.colab.output.renderOutput(dataTable, element);\n",
              "        const docLink = document.createElement('div');\n",
              "        docLink.innerHTML = docLinkHtml;\n",
              "        element.appendChild(docLink);\n",
              "      }\n",
              "    </script>\n",
              "  </div>\n",
              "\n",
              "\n",
              "<div id=\"df-711e92c3-14be-45c6-a415-4a97a2233571\">\n",
              "  <button class=\"colab-df-quickchart\" onclick=\"quickchart('df-711e92c3-14be-45c6-a415-4a97a2233571')\"\n",
              "            title=\"Suggest charts\"\n",
              "            style=\"display:none;\">\n",
              "\n",
              "<svg xmlns=\"http://www.w3.org/2000/svg\" height=\"24px\"viewBox=\"0 0 24 24\"\n",
              "     width=\"24px\">\n",
              "    <g>\n",
              "        <path d=\"M19 3H5c-1.1 0-2 .9-2 2v14c0 1.1.9 2 2 2h14c1.1 0 2-.9 2-2V5c0-1.1-.9-2-2-2zM9 17H7v-7h2v7zm4 0h-2V7h2v10zm4 0h-2v-4h2v4z\"/>\n",
              "    </g>\n",
              "</svg>\n",
              "  </button>\n",
              "\n",
              "<style>\n",
              "  .colab-df-quickchart {\n",
              "      --bg-color: #E8F0FE;\n",
              "      --fill-color: #1967D2;\n",
              "      --hover-bg-color: #E2EBFA;\n",
              "      --hover-fill-color: #174EA6;\n",
              "      --disabled-fill-color: #AAA;\n",
              "      --disabled-bg-color: #DDD;\n",
              "  }\n",
              "\n",
              "  [theme=dark] .colab-df-quickchart {\n",
              "      --bg-color: #3B4455;\n",
              "      --fill-color: #D2E3FC;\n",
              "      --hover-bg-color: #434B5C;\n",
              "      --hover-fill-color: #FFFFFF;\n",
              "      --disabled-bg-color: #3B4455;\n",
              "      --disabled-fill-color: #666;\n",
              "  }\n",
              "\n",
              "  .colab-df-quickchart {\n",
              "    background-color: var(--bg-color);\n",
              "    border: none;\n",
              "    border-radius: 50%;\n",
              "    cursor: pointer;\n",
              "    display: none;\n",
              "    fill: var(--fill-color);\n",
              "    height: 32px;\n",
              "    padding: 0;\n",
              "    width: 32px;\n",
              "  }\n",
              "\n",
              "  .colab-df-quickchart:hover {\n",
              "    background-color: var(--hover-bg-color);\n",
              "    box-shadow: 0 1px 2px rgba(60, 64, 67, 0.3), 0 1px 3px 1px rgba(60, 64, 67, 0.15);\n",
              "    fill: var(--button-hover-fill-color);\n",
              "  }\n",
              "\n",
              "  .colab-df-quickchart-complete:disabled,\n",
              "  .colab-df-quickchart-complete:disabled:hover {\n",
              "    background-color: var(--disabled-bg-color);\n",
              "    fill: var(--disabled-fill-color);\n",
              "    box-shadow: none;\n",
              "  }\n",
              "\n",
              "  .colab-df-spinner {\n",
              "    border: 2px solid var(--fill-color);\n",
              "    border-color: transparent;\n",
              "    border-bottom-color: var(--fill-color);\n",
              "    animation:\n",
              "      spin 1s steps(1) infinite;\n",
              "  }\n",
              "\n",
              "  @keyframes spin {\n",
              "    0% {\n",
              "      border-color: transparent;\n",
              "      border-bottom-color: var(--fill-color);\n",
              "      border-left-color: var(--fill-color);\n",
              "    }\n",
              "    20% {\n",
              "      border-color: transparent;\n",
              "      border-left-color: var(--fill-color);\n",
              "      border-top-color: var(--fill-color);\n",
              "    }\n",
              "    30% {\n",
              "      border-color: transparent;\n",
              "      border-left-color: var(--fill-color);\n",
              "      border-top-color: var(--fill-color);\n",
              "      border-right-color: var(--fill-color);\n",
              "    }\n",
              "    40% {\n",
              "      border-color: transparent;\n",
              "      border-right-color: var(--fill-color);\n",
              "      border-top-color: var(--fill-color);\n",
              "    }\n",
              "    60% {\n",
              "      border-color: transparent;\n",
              "      border-right-color: var(--fill-color);\n",
              "    }\n",
              "    80% {\n",
              "      border-color: transparent;\n",
              "      border-right-color: var(--fill-color);\n",
              "      border-bottom-color: var(--fill-color);\n",
              "    }\n",
              "    90% {\n",
              "      border-color: transparent;\n",
              "      border-bottom-color: var(--fill-color);\n",
              "    }\n",
              "  }\n",
              "</style>\n",
              "\n",
              "  <script>\n",
              "    async function quickchart(key) {\n",
              "      const quickchartButtonEl =\n",
              "        document.querySelector('#' + key + ' button');\n",
              "      quickchartButtonEl.disabled = true;  // To prevent multiple clicks.\n",
              "      quickchartButtonEl.classList.add('colab-df-spinner');\n",
              "      try {\n",
              "        const charts = await google.colab.kernel.invokeFunction(\n",
              "            'suggestCharts', [key], {});\n",
              "      } catch (error) {\n",
              "        console.error('Error during call to suggestCharts:', error);\n",
              "      }\n",
              "      quickchartButtonEl.classList.remove('colab-df-spinner');\n",
              "      quickchartButtonEl.classList.add('colab-df-quickchart-complete');\n",
              "    }\n",
              "    (() => {\n",
              "      let quickchartButtonEl =\n",
              "        document.querySelector('#df-711e92c3-14be-45c6-a415-4a97a2233571 button');\n",
              "      quickchartButtonEl.style.display =\n",
              "        google.colab.kernel.accessAllowed ? 'block' : 'none';\n",
              "    })();\n",
              "  </script>\n",
              "</div>\n",
              "\n",
              "    </div>\n",
              "  </div>\n"
            ],
            "application/vnd.google.colaboratory.intrinsic+json": {
              "type": "dataframe",
              "variable_name": "df_clean"
            }
          },
          "metadata": {},
          "execution_count": 40
        }
      ]
    },
    {
      "cell_type": "code",
      "source": [
        "X = df_clean.drop(['is_fraud'],axis=1)\n",
        "y = df_clean.is_fraud"
      ],
      "metadata": {
        "id": "CRmQ6X_IgOJ_"
      },
      "execution_count": 41,
      "outputs": []
    },
    {
      "cell_type": "code",
      "source": [
        "X.isnull().sum()"
      ],
      "metadata": {
        "colab": {
          "base_uri": "https://localhost:8080/",
          "height": 141
        },
        "id": "iOi8zwYFpb10",
        "outputId": "91a64245-988a-46f1-da70-70132ca2d929"
      },
      "execution_count": 49,
      "outputs": [
        {
          "output_type": "error",
          "ename": "AttributeError",
          "evalue": "'Tensor' object has no attribute 'isnull'",
          "traceback": [
            "\u001b[0;31m---------------------------------------------------------------------------\u001b[0m",
            "\u001b[0;31mAttributeError\u001b[0m                            Traceback (most recent call last)",
            "\u001b[0;32m<ipython-input-49-317c28f2054f>\u001b[0m in \u001b[0;36m<cell line: 1>\u001b[0;34m()\u001b[0m\n\u001b[0;32m----> 1\u001b[0;31m \u001b[0mX\u001b[0m\u001b[0;34m.\u001b[0m\u001b[0misnull\u001b[0m\u001b[0;34m(\u001b[0m\u001b[0;34m)\u001b[0m\u001b[0;34m.\u001b[0m\u001b[0msum\u001b[0m\u001b[0;34m(\u001b[0m\u001b[0;34m)\u001b[0m\u001b[0;34m\u001b[0m\u001b[0;34m\u001b[0m\u001b[0m\n\u001b[0m",
            "\u001b[0;31mAttributeError\u001b[0m: 'Tensor' object has no attribute 'isnull'"
          ]
        }
      ]
    },
    {
      "cell_type": "code",
      "source": [
        "# convert the panda dataframe into pytorch tensors\n",
        "X = torch.tensor(X.values, dtype=torch.float32)\n",
        "y = torch.tensor(y, dtype=torch.float32).reshape(-1,1)"
      ],
      "metadata": {
        "id": "PA5SdAKcgg-Z"
      },
      "execution_count": 42,
      "outputs": []
    },
    {
      "cell_type": "code",
      "source": [
        "# Split\n",
        "X_train, X_test, y_train, y_test = train_test_split(X,y, test_size=0.3, random_state=42)"
      ],
      "metadata": {
        "id": "U1eFG1zihTMu"
      },
      "execution_count": 43,
      "outputs": []
    },
    {
      "cell_type": "code",
      "source": [
        "X_train.shape"
      ],
      "metadata": {
        "colab": {
          "base_uri": "https://localhost:8080/"
        },
        "id": "8lEyTxoXiKjt",
        "outputId": "c2657df6-1973-4ade-f1b7-1ae092b9ae7a"
      },
      "execution_count": 44,
      "outputs": [
        {
          "output_type": "execute_result",
          "data": {
            "text/plain": [
              "torch.Size([1779, 452])"
            ]
          },
          "metadata": {},
          "execution_count": 44
        }
      ]
    },
    {
      "cell_type": "markdown",
      "source": [
        "### Building Classification Model"
      ],
      "metadata": {
        "id": "nKaCM-hnh7nv"
      }
    },
    {
      "cell_type": "code",
      "source": [
        "class Deep(nn.Module):\n",
        "  def __init__(self):\n",
        "    super().__init__()\n",
        "    self.layer1 = nn.Linear(452, 60)\n",
        "    self.act1 = nn.ReLU()\n",
        "    self.layer2 = nn.Linear(60, 60)\n",
        "    self.act2 = nn.ReLU()\n",
        "    self.layer3 = nn.Linear(60,60)\n",
        "    self.act3 = nn.ReLU()\n",
        "    self.output = nn.Linear(60,1)\n",
        "    self.sigmoid = nn.Sigmoid()\n",
        "\n",
        "\n",
        "  def forward(self, x):\n",
        "    x = self.act1(self.layer1(x))\n",
        "    x = self.act2(self.layer2(x))\n",
        "    x = self.act3(self.layer3(x))\n",
        "    x = self.sigmoid(self.output(x))\n",
        "    return x"
      ],
      "metadata": {
        "id": "8S39CFpvh_Pi"
      },
      "execution_count": 45,
      "outputs": []
    },
    {
      "cell_type": "markdown",
      "source": [
        "### Train the Model"
      ],
      "metadata": {
        "id": "I5ckf2vyjo9g"
      }
    },
    {
      "cell_type": "code",
      "source": [
        "import torch.optim as optim\n",
        "import tqdm\n",
        "import copy\n",
        "\n",
        "\n",
        "def model_train(model, X_train, y_train, X_test, y_test):\n",
        "  # loss function and optimizer\n",
        "  loss_fn = nn.BCELoss()\n",
        "  optimizer = optim.Adam(model.parameters(), lr=0.0001)\n",
        "\n",
        "  n_epochs = 50 #number of epoch to run\n",
        "  batch_size = 10\n",
        "  batches_per_epoch = len(X_train)\n",
        "\n",
        "  best_acc = - np.inf\n",
        "  best_weights = None\n",
        "\n",
        "  train_loss_hist = []\n",
        "  train_acc_hist = []\n",
        "  test_loss_hist = []\n",
        "  test_acc_hist = []\n",
        "\n",
        "  for epoch in range(n_epochs):\n",
        "    epoch_loss = []\n",
        "    epoch_acc = []\n",
        "    model.train()\n",
        "    with tqdm.trange(batches_per_epoch, unit='batch',mininterval=0) as bar:\n",
        "      bar.set_description(f\"Epoch {epoch}\")\n",
        "      for start in bar:\n",
        "        X_batch = X_train[start:start+batch_size]\n",
        "        y_batch = y_train[start:start+batch_size]\n",
        "\n",
        "        # forward pass\n",
        "        y_pred = model(X_batch)\n",
        "        loss = loss_fn(y_pred, y_batch)\n",
        "\n",
        "        # backward pass\n",
        "        optimizer.zero_grad()\n",
        "        loss.backward()\n",
        "\n",
        "        # update weight\n",
        "        optimizer.step()\n",
        "\n",
        "        # print progress\n",
        "        acc = ( y_pred.round() == y_batch ).float().mean()\n",
        "        epoch_loss.append(float(loss))\n",
        "        epoch_acc.append(float(acc))\n",
        "        bar.set_postfix(\n",
        "            loss = float(loss),\n",
        "            acc=float(acc)\n",
        "        )\n",
        "    model.eval()\n",
        "    y_pred = model(X_test)\n",
        "    loss = loss_fn(y_pred, y_test)\n",
        "    acc = ( y_pred.round() == y_test ).float().mean()\n",
        "    acc = float(acc)\n",
        "    train_loss_hist.append(np.mean(epoch_loss))\n",
        "    train_acc_hist.append(np.mean(epoch_acc))\n",
        "    test_loss_hist.append(float(loss))\n",
        "    test_acc_hist.append(float(acc))\n",
        "    if acc > best_acc:\n",
        "      best_acc = acc\n",
        "      best_weights = copy.deepcopy(model.state_dict())\n",
        "    print(f\"Epoch {epoch} validation: Cross-entropy={loss}, Accuracy={acc}\")\n",
        "\n",
        "  model.load_state_dict(best_weights)\n",
        "  return best_acc\n",
        "\n"
      ],
      "metadata": {
        "id": "1z_GAcvQjqld"
      },
      "execution_count": 65,
      "outputs": []
    },
    {
      "cell_type": "code",
      "source": [
        "model = Deep()\n",
        "acc = model_train(model, X_train, y_train, X_test, y_test)"
      ],
      "metadata": {
        "colab": {
          "base_uri": "https://localhost:8080/"
        },
        "id": "bcnGmK73l3C5",
        "outputId": "d7da5b99-7b2f-4fc8-9b44-3aac94bf8939"
      },
      "execution_count": 66,
      "outputs": [
        {
          "output_type": "stream",
          "name": "stderr",
          "text": [
            "Epoch 0: 100%|██████████| 1779/1779 [00:13<00:00, 129.49batch/s, acc=1, loss=9.06e-6]\n"
          ]
        },
        {
          "output_type": "stream",
          "name": "stdout",
          "text": [
            "Epoch 0 validation: Cross-entropy=2.350877523422241, Accuracy=0.8833552002906799\n"
          ]
        },
        {
          "output_type": "stream",
          "name": "stderr",
          "text": [
            "Epoch 1: 100%|██████████| 1779/1779 [00:15<00:00, 116.05batch/s, acc=1, loss=0.00923]\n"
          ]
        },
        {
          "output_type": "stream",
          "name": "stdout",
          "text": [
            "Epoch 1 validation: Cross-entropy=0.8949822783470154, Accuracy=0.9174311757087708\n"
          ]
        },
        {
          "output_type": "stream",
          "name": "stderr",
          "text": [
            "Epoch 2: 100%|██████████| 1779/1779 [00:13<00:00, 131.89batch/s, acc=1, loss=9.81e-5]\n"
          ]
        },
        {
          "output_type": "stream",
          "name": "stdout",
          "text": [
            "Epoch 2 validation: Cross-entropy=1.6918622255325317, Accuracy=0.8859764337539673\n"
          ]
        },
        {
          "output_type": "stream",
          "name": "stderr",
          "text": [
            "Epoch 3: 100%|██████████| 1779/1779 [00:13<00:00, 132.32batch/s, acc=1, loss=2.05e-7]\n"
          ]
        },
        {
          "output_type": "stream",
          "name": "stdout",
          "text": [
            "Epoch 3 validation: Cross-entropy=3.244415044784546, Accuracy=0.8584534525871277\n"
          ]
        },
        {
          "output_type": "stream",
          "name": "stderr",
          "text": [
            "Epoch 4: 100%|██████████| 1779/1779 [00:13<00:00, 132.31batch/s, acc=1, loss=9.29e-6]\n"
          ]
        },
        {
          "output_type": "stream",
          "name": "stdout",
          "text": [
            "Epoch 4 validation: Cross-entropy=2.317636013031006, Accuracy=0.8689383864402771\n"
          ]
        },
        {
          "output_type": "stream",
          "name": "stderr",
          "text": [
            "Epoch 5: 100%|██████████| 1779/1779 [00:14<00:00, 126.47batch/s, acc=1, loss=0.000335]\n"
          ]
        },
        {
          "output_type": "stream",
          "name": "stdout",
          "text": [
            "Epoch 5 validation: Cross-entropy=1.3504157066345215, Accuracy=0.8794233202934265\n"
          ]
        },
        {
          "output_type": "stream",
          "name": "stderr",
          "text": [
            "Epoch 6: 100%|██████████| 1779/1779 [00:13<00:00, 128.66batch/s, acc=1, loss=0.000114]\n"
          ]
        },
        {
          "output_type": "stream",
          "name": "stdout",
          "text": [
            "Epoch 6 validation: Cross-entropy=1.608804702758789, Accuracy=0.8741808533668518\n"
          ]
        },
        {
          "output_type": "stream",
          "name": "stderr",
          "text": [
            "Epoch 7: 100%|██████████| 1779/1779 [00:13<00:00, 130.00batch/s, acc=1, loss=0.000208]\n"
          ]
        },
        {
          "output_type": "stream",
          "name": "stdout",
          "text": [
            "Epoch 7 validation: Cross-entropy=1.630405068397522, Accuracy=0.8702490329742432\n"
          ]
        },
        {
          "output_type": "stream",
          "name": "stderr",
          "text": [
            "Epoch 8: 100%|██████████| 1779/1779 [00:13<00:00, 130.02batch/s, acc=1, loss=0.00152]\n"
          ]
        },
        {
          "output_type": "stream",
          "name": "stdout",
          "text": [
            "Epoch 8 validation: Cross-entropy=1.2018426656723022, Accuracy=0.8741808533668518\n"
          ]
        },
        {
          "output_type": "stream",
          "name": "stderr",
          "text": [
            "Epoch 9: 100%|██████████| 1779/1779 [00:13<00:00, 130.99batch/s, acc=1, loss=0.00297]\n"
          ]
        },
        {
          "output_type": "stream",
          "name": "stdout",
          "text": [
            "Epoch 9 validation: Cross-entropy=1.0356287956237793, Accuracy=0.8702490329742432\n"
          ]
        },
        {
          "output_type": "stream",
          "name": "stderr",
          "text": [
            "Epoch 10: 100%|██████████| 1779/1779 [00:13<00:00, 127.85batch/s, acc=1, loss=0.0163]\n"
          ]
        },
        {
          "output_type": "stream",
          "name": "stdout",
          "text": [
            "Epoch 10 validation: Cross-entropy=0.680961549282074, Accuracy=0.8899082541465759\n"
          ]
        },
        {
          "output_type": "stream",
          "name": "stderr",
          "text": [
            "Epoch 11: 100%|██████████| 1779/1779 [00:13<00:00, 127.71batch/s, acc=1, loss=0.039]\n"
          ]
        },
        {
          "output_type": "stream",
          "name": "stdout",
          "text": [
            "Epoch 11 validation: Cross-entropy=0.5277713537216187, Accuracy=0.8990825414657593\n"
          ]
        },
        {
          "output_type": "stream",
          "name": "stderr",
          "text": [
            "Epoch 12: 100%|██████████| 1779/1779 [00:13<00:00, 127.77batch/s, acc=1, loss=0.0882]\n"
          ]
        },
        {
          "output_type": "stream",
          "name": "stdout",
          "text": [
            "Epoch 12 validation: Cross-entropy=0.39720359444618225, Accuracy=0.9056356549263\n"
          ]
        },
        {
          "output_type": "stream",
          "name": "stderr",
          "text": [
            "Epoch 13: 100%|██████████| 1779/1779 [00:14<00:00, 126.21batch/s, acc=1, loss=0.079]\n"
          ]
        },
        {
          "output_type": "stream",
          "name": "stdout",
          "text": [
            "Epoch 13 validation: Cross-entropy=0.43383902311325073, Accuracy=0.9003931879997253\n"
          ]
        },
        {
          "output_type": "stream",
          "name": "stderr",
          "text": [
            "Epoch 14: 100%|██████████| 1779/1779 [00:14<00:00, 125.40batch/s, acc=1, loss=0.152]\n"
          ]
        },
        {
          "output_type": "stream",
          "name": "stdout",
          "text": [
            "Epoch 14 validation: Cross-entropy=0.3257351219654083, Accuracy=0.9174311757087708\n"
          ]
        },
        {
          "output_type": "stream",
          "name": "stderr",
          "text": [
            "Epoch 15: 100%|██████████| 1779/1779 [00:14<00:00, 125.11batch/s, acc=1, loss=0.119]\n"
          ]
        },
        {
          "output_type": "stream",
          "name": "stdout",
          "text": [
            "Epoch 15 validation: Cross-entropy=0.3516460955142975, Accuracy=0.9187418222427368\n"
          ]
        },
        {
          "output_type": "stream",
          "name": "stderr",
          "text": [
            "Epoch 16: 100%|██████████| 1779/1779 [00:14<00:00, 120.99batch/s, acc=1, loss=0.0935]\n"
          ]
        },
        {
          "output_type": "stream",
          "name": "stdout",
          "text": [
            "Epoch 16 validation: Cross-entropy=0.3773261308670044, Accuracy=0.9161205887794495\n"
          ]
        },
        {
          "output_type": "stream",
          "name": "stderr",
          "text": [
            "Epoch 17: 100%|██████████| 1779/1779 [00:14<00:00, 118.99batch/s, acc=1, loss=0.13]\n"
          ]
        },
        {
          "output_type": "stream",
          "name": "stdout",
          "text": [
            "Epoch 17 validation: Cross-entropy=0.3351293206214905, Accuracy=0.9226736426353455\n"
          ]
        },
        {
          "output_type": "stream",
          "name": "stderr",
          "text": [
            "Epoch 18: 100%|██████████| 1779/1779 [00:14<00:00, 121.05batch/s, acc=1, loss=0.131]\n"
          ]
        },
        {
          "output_type": "stream",
          "name": "stdout",
          "text": [
            "Epoch 18 validation: Cross-entropy=0.30936986207962036, Accuracy=0.9239842891693115\n"
          ]
        },
        {
          "output_type": "stream",
          "name": "stderr",
          "text": [
            "Epoch 19: 100%|██████████| 1779/1779 [00:14<00:00, 123.36batch/s, acc=1, loss=0.179]\n"
          ]
        },
        {
          "output_type": "stream",
          "name": "stdout",
          "text": [
            "Epoch 19 validation: Cross-entropy=0.31136855483055115, Accuracy=0.9187418222427368\n"
          ]
        },
        {
          "output_type": "stream",
          "name": "stderr",
          "text": [
            "Epoch 20: 100%|██████████| 1779/1779 [00:14<00:00, 123.22batch/s, acc=1, loss=0.247]\n"
          ]
        },
        {
          "output_type": "stream",
          "name": "stdout",
          "text": [
            "Epoch 20 validation: Cross-entropy=0.41955217719078064, Accuracy=0.9213630557060242\n"
          ]
        },
        {
          "output_type": "stream",
          "name": "stderr",
          "text": [
            "Epoch 21: 100%|██████████| 1779/1779 [00:14<00:00, 123.07batch/s, acc=1, loss=0.158]\n"
          ]
        },
        {
          "output_type": "stream",
          "name": "stdout",
          "text": [
            "Epoch 21 validation: Cross-entropy=0.33331695199012756, Accuracy=0.9187418222427368\n"
          ]
        },
        {
          "output_type": "stream",
          "name": "stderr",
          "text": [
            "Epoch 22: 100%|██████████| 1779/1779 [00:14<00:00, 122.20batch/s, acc=1, loss=0.156]\n"
          ]
        },
        {
          "output_type": "stream",
          "name": "stdout",
          "text": [
            "Epoch 22 validation: Cross-entropy=0.4136367440223694, Accuracy=0.9239842891693115\n"
          ]
        },
        {
          "output_type": "stream",
          "name": "stderr",
          "text": [
            "Epoch 23: 100%|██████████| 1779/1779 [00:14<00:00, 126.35batch/s, acc=1, loss=0.143]\n"
          ]
        },
        {
          "output_type": "stream",
          "name": "stdout",
          "text": [
            "Epoch 23 validation: Cross-entropy=0.2944292724132538, Accuracy=0.9239842891693115\n"
          ]
        },
        {
          "output_type": "stream",
          "name": "stderr",
          "text": [
            "Epoch 24: 100%|██████████| 1779/1779 [00:14<00:00, 121.37batch/s, acc=1, loss=0.151]\n"
          ]
        },
        {
          "output_type": "stream",
          "name": "stdout",
          "text": [
            "Epoch 24 validation: Cross-entropy=0.41979140043258667, Accuracy=0.9108781218528748\n"
          ]
        },
        {
          "output_type": "stream",
          "name": "stderr",
          "text": [
            "Epoch 25: 100%|██████████| 1779/1779 [00:14<00:00, 123.46batch/s, acc=1, loss=0.147]\n"
          ]
        },
        {
          "output_type": "stream",
          "name": "stdout",
          "text": [
            "Epoch 25 validation: Cross-entropy=0.4156435430049896, Accuracy=0.9174311757087708\n"
          ]
        },
        {
          "output_type": "stream",
          "name": "stderr",
          "text": [
            "Epoch 26: 100%|██████████| 1779/1779 [00:14<00:00, 121.89batch/s, acc=1, loss=0.15]\n"
          ]
        },
        {
          "output_type": "stream",
          "name": "stdout",
          "text": [
            "Epoch 26 validation: Cross-entropy=0.31508883833885193, Accuracy=0.9174311757087708\n"
          ]
        },
        {
          "output_type": "stream",
          "name": "stderr",
          "text": [
            "Epoch 27: 100%|██████████| 1779/1779 [00:14<00:00, 121.48batch/s, acc=1, loss=0.119]\n"
          ]
        },
        {
          "output_type": "stream",
          "name": "stdout",
          "text": [
            "Epoch 27 validation: Cross-entropy=0.3012438416481018, Accuracy=0.9200524091720581\n"
          ]
        },
        {
          "output_type": "stream",
          "name": "stderr",
          "text": [
            "Epoch 28: 100%|██████████| 1779/1779 [00:14<00:00, 125.11batch/s, acc=1, loss=0.124]\n"
          ]
        },
        {
          "output_type": "stream",
          "name": "stdout",
          "text": [
            "Epoch 28 validation: Cross-entropy=0.3123117685317993, Accuracy=0.9095674753189087\n"
          ]
        },
        {
          "output_type": "stream",
          "name": "stderr",
          "text": [
            "Epoch 29: 100%|██████████| 1779/1779 [00:14<00:00, 119.17batch/s, acc=1, loss=0.11]\n"
          ]
        },
        {
          "output_type": "stream",
          "name": "stdout",
          "text": [
            "Epoch 29 validation: Cross-entropy=0.29284581542015076, Accuracy=0.9187418222427368\n"
          ]
        },
        {
          "output_type": "stream",
          "name": "stderr",
          "text": [
            "Epoch 30: 100%|██████████| 1779/1779 [00:15<00:00, 116.98batch/s, acc=1, loss=0.145]\n"
          ]
        },
        {
          "output_type": "stream",
          "name": "stdout",
          "text": [
            "Epoch 30 validation: Cross-entropy=0.2905943691730499, Accuracy=0.9213630557060242\n"
          ]
        },
        {
          "output_type": "stream",
          "name": "stderr",
          "text": [
            "Epoch 31: 100%|██████████| 1779/1779 [00:14<00:00, 123.16batch/s, acc=1, loss=0.121]\n"
          ]
        },
        {
          "output_type": "stream",
          "name": "stdout",
          "text": [
            "Epoch 31 validation: Cross-entropy=0.3172401487827301, Accuracy=0.9134993553161621\n"
          ]
        },
        {
          "output_type": "stream",
          "name": "stderr",
          "text": [
            "Epoch 32: 100%|██████████| 1779/1779 [00:14<00:00, 118.80batch/s, acc=1, loss=0.122]\n"
          ]
        },
        {
          "output_type": "stream",
          "name": "stdout",
          "text": [
            "Epoch 32 validation: Cross-entropy=0.3075544536113739, Accuracy=0.9148099422454834\n"
          ]
        },
        {
          "output_type": "stream",
          "name": "stderr",
          "text": [
            "Epoch 33: 100%|██████████| 1779/1779 [00:14<00:00, 125.46batch/s, acc=1, loss=0.171]\n"
          ]
        },
        {
          "output_type": "stream",
          "name": "stdout",
          "text": [
            "Epoch 33 validation: Cross-entropy=0.29998278617858887, Accuracy=0.9161205887794495\n"
          ]
        },
        {
          "output_type": "stream",
          "name": "stderr",
          "text": [
            "Epoch 34: 100%|██████████| 1779/1779 [00:14<00:00, 126.48batch/s, acc=1, loss=0.134]\n"
          ]
        },
        {
          "output_type": "stream",
          "name": "stdout",
          "text": [
            "Epoch 34 validation: Cross-entropy=0.30540788173675537, Accuracy=0.9134993553161621\n"
          ]
        },
        {
          "output_type": "stream",
          "name": "stderr",
          "text": [
            "Epoch 35: 100%|██████████| 1779/1779 [00:14<00:00, 119.42batch/s, acc=1, loss=0.136]\n"
          ]
        },
        {
          "output_type": "stream",
          "name": "stdout",
          "text": [
            "Epoch 35 validation: Cross-entropy=0.41737842559814453, Accuracy=0.9213630557060242\n"
          ]
        },
        {
          "output_type": "stream",
          "name": "stderr",
          "text": [
            "Epoch 36: 100%|██████████| 1779/1779 [00:14<00:00, 119.18batch/s, acc=1, loss=0.12]\n"
          ]
        },
        {
          "output_type": "stream",
          "name": "stdout",
          "text": [
            "Epoch 36 validation: Cross-entropy=0.3041011691093445, Accuracy=0.9108781218528748\n"
          ]
        },
        {
          "output_type": "stream",
          "name": "stderr",
          "text": [
            "Epoch 37: 100%|██████████| 1779/1779 [00:14<00:00, 124.91batch/s, acc=1, loss=0.13]\n"
          ]
        },
        {
          "output_type": "stream",
          "name": "stdout",
          "text": [
            "Epoch 37 validation: Cross-entropy=0.30131739377975464, Accuracy=0.912188708782196\n"
          ]
        },
        {
          "output_type": "stream",
          "name": "stderr",
          "text": [
            "Epoch 38: 100%|██████████| 1779/1779 [00:14<00:00, 119.77batch/s, acc=1, loss=0.162]\n"
          ]
        },
        {
          "output_type": "stream",
          "name": "stdout",
          "text": [
            "Epoch 38 validation: Cross-entropy=0.31222647428512573, Accuracy=0.912188708782196\n"
          ]
        },
        {
          "output_type": "stream",
          "name": "stderr",
          "text": [
            "Epoch 39: 100%|██████████| 1779/1779 [00:15<00:00, 115.87batch/s, acc=1, loss=0.151]\n"
          ]
        },
        {
          "output_type": "stream",
          "name": "stdout",
          "text": [
            "Epoch 39 validation: Cross-entropy=0.29925796389579773, Accuracy=0.9161205887794495\n"
          ]
        },
        {
          "output_type": "stream",
          "name": "stderr",
          "text": [
            "Epoch 40: 100%|██████████| 1779/1779 [00:14<00:00, 121.78batch/s, acc=1, loss=0.196]\n"
          ]
        },
        {
          "output_type": "stream",
          "name": "stdout",
          "text": [
            "Epoch 40 validation: Cross-entropy=0.31247326731681824, Accuracy=0.9213630557060242\n"
          ]
        },
        {
          "output_type": "stream",
          "name": "stderr",
          "text": [
            "Epoch 41: 100%|██████████| 1779/1779 [00:15<00:00, 118.03batch/s, acc=1, loss=0.179]\n"
          ]
        },
        {
          "output_type": "stream",
          "name": "stdout",
          "text": [
            "Epoch 41 validation: Cross-entropy=0.304969847202301, Accuracy=0.9174311757087708\n"
          ]
        },
        {
          "output_type": "stream",
          "name": "stderr",
          "text": [
            "Epoch 42: 100%|██████████| 1779/1779 [00:15<00:00, 113.08batch/s, acc=1, loss=0.172]\n"
          ]
        },
        {
          "output_type": "stream",
          "name": "stdout",
          "text": [
            "Epoch 42 validation: Cross-entropy=0.30241405963897705, Accuracy=0.9161205887794495\n"
          ]
        },
        {
          "output_type": "stream",
          "name": "stderr",
          "text": [
            "Epoch 43: 100%|██████████| 1779/1779 [00:15<00:00, 118.54batch/s, acc=1, loss=0.144]\n"
          ]
        },
        {
          "output_type": "stream",
          "name": "stdout",
          "text": [
            "Epoch 43 validation: Cross-entropy=0.3078903257846832, Accuracy=0.9134993553161621\n"
          ]
        },
        {
          "output_type": "stream",
          "name": "stderr",
          "text": [
            "Epoch 44: 100%|██████████| 1779/1779 [00:15<00:00, 117.77batch/s, acc=1, loss=0.138]\n"
          ]
        },
        {
          "output_type": "stream",
          "name": "stdout",
          "text": [
            "Epoch 44 validation: Cross-entropy=0.3109467327594757, Accuracy=0.9134993553161621\n"
          ]
        },
        {
          "output_type": "stream",
          "name": "stderr",
          "text": [
            "Epoch 45: 100%|██████████| 1779/1779 [00:15<00:00, 116.64batch/s, acc=1, loss=0.153]\n"
          ]
        },
        {
          "output_type": "stream",
          "name": "stdout",
          "text": [
            "Epoch 45 validation: Cross-entropy=0.4256475269794464, Accuracy=0.9187418222427368\n"
          ]
        },
        {
          "output_type": "stream",
          "name": "stderr",
          "text": [
            "Epoch 46: 100%|██████████| 1779/1779 [00:15<00:00, 116.32batch/s, acc=1, loss=0.164]\n"
          ]
        },
        {
          "output_type": "stream",
          "name": "stdout",
          "text": [
            "Epoch 46 validation: Cross-entropy=0.539958119392395, Accuracy=0.9134993553161621\n"
          ]
        },
        {
          "output_type": "stream",
          "name": "stderr",
          "text": [
            "Epoch 47: 100%|██████████| 1779/1779 [00:14<00:00, 120.01batch/s, acc=1, loss=0.131]\n"
          ]
        },
        {
          "output_type": "stream",
          "name": "stdout",
          "text": [
            "Epoch 47 validation: Cross-entropy=0.4240530729293823, Accuracy=0.9134993553161621\n"
          ]
        },
        {
          "output_type": "stream",
          "name": "stderr",
          "text": [
            "Epoch 48: 100%|██████████| 1779/1779 [00:14<00:00, 119.64batch/s, acc=1, loss=0.163]\n"
          ]
        },
        {
          "output_type": "stream",
          "name": "stdout",
          "text": [
            "Epoch 48 validation: Cross-entropy=0.30921670794487, Accuracy=0.9174311757087708\n"
          ]
        },
        {
          "output_type": "stream",
          "name": "stderr",
          "text": [
            "Epoch 49: 100%|██████████| 1779/1779 [00:15<00:00, 116.68batch/s, acc=1, loss=0.16]\n"
          ]
        },
        {
          "output_type": "stream",
          "name": "stdout",
          "text": [
            "Epoch 49 validation: Cross-entropy=0.5229389071464539, Accuracy=0.9213630557060242\n"
          ]
        }
      ]
    },
    {
      "cell_type": "code",
      "source": [
        "print(\"Accuracy (wide): %.2f\" % acc)"
      ],
      "metadata": {
        "colab": {
          "base_uri": "https://localhost:8080/"
        },
        "id": "f3RLNyzcoBs9",
        "outputId": "eaf4d998-5bf2-4888-e977-d68f857d41dc"
      },
      "execution_count": 60,
      "outputs": [
        {
          "output_type": "stream",
          "name": "stdout",
          "text": [
            "Accuracy (wide): 0.92\n"
          ]
        }
      ]
    },
    {
      "cell_type": "code",
      "source": [
        "import matplotlib.pyplot as plt\n",
        "\n",
        "plt.plot(train_loss_hist, label=\"train\")\n",
        "plt.plot(test_loss_hist, label=\"test\")\n",
        "plt.xlabel(\"epochs\")\n",
        "plt.ylabel(\"cross entropy\")\n",
        "plt.legend()\n",
        "plt.show()\n",
        "\n",
        "plt.plot(train_acc_hist, label=\"train\")\n",
        "plt.plot(test_acc_hist, label=\"test\")\n",
        "plt.xlabel(\"epochs\")\n",
        "plt.ylabel(\"accuracy\")\n",
        "plt.legend()\n",
        "plt.show()"
      ],
      "metadata": {
        "id": "NeYvnTtbulF7"
      },
      "execution_count": null,
      "outputs": []
    }
  ]
}